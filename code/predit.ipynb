{
 "cells": [
  {
   "cell_type": "code",
   "execution_count": 8,
   "metadata": {},
   "outputs": [
    {
     "name": "stderr",
     "output_type": "stream",
     "text": [
      "C:\\Users\\Aniket\\Anaconda3\\lib\\site-packages\\ipykernel_launcher.py:8: DeprecationWarning: numpy.core.umath_tests is an internal NumPy module and should not be imported. It will be removed in a future NumPy release.\n",
      "  \n"
     ]
    }
   ],
   "source": [
    "import pandas as pd\n",
    "import numpy as np\n",
    "from sklearn import model_selection\n",
    "from sklearn.tree import DecisionTreeClassifier\n",
    "from sklearn import svm\n",
    "from sklearn.naive_bayes import GaussianNB\n",
    "from sklearn.ensemble import RandomForestClassifier\n",
    "from numpy.core.umath_tests import inner1d\n",
    "from sklearn.externals import joblib"
   ]
  },
  {
   "cell_type": "code",
   "execution_count": 4,
   "metadata": {},
   "outputs": [],
   "source": [
    "import joblib"
   ]
  },
  {
   "cell_type": "code",
   "execution_count": 10,
   "metadata": {},
   "outputs": [],
   "source": [
    "cleanedDF = pd.read_csv('../data/processed/match_cleaned.csv')\n",
    "playerDF = pd.read_csv('../data/processed/player.csv')\n",
    "bowlerwiseDF = pd.read_csv('../data/processed/bowlerwise.csv')\n",
    "teamsDF = pd.read_csv('../data/Team.csv')\n",
    "venueDF = pd.read_csv('../data/venue.csv')\n",
    "\n",
    "    \n",
    "def Sort_Tuple(tup):  \n",
    "  \n",
    "    # reverse = None (Sorts in Ascending order)  \n",
    "    # key is set to sort using second element of  \n",
    "    # sublist lambda has been used  \n",
    "    return(sorted(tup, key = lambda x: x[1],reverse=1))   \n",
    "  "
   ]
  },
  {
   "cell_type": "code",
   "execution_count": 11,
   "metadata": {
    "scrolled": true
   },
   "outputs": [],
   "source": [
    "def feature_fetch(season,team1, team2):\n",
    "   # print(playerDF['is_bowler'])\n",
    "    t1df=playerDF[ playerDF['Team_'+str(int(season))]==int(team1)]\n",
    "    t2df=playerDF[ playerDF['Team_'+str(int(season))]==int(team2)]\n",
    "    t1playersid=list(t1df.loc[:,'Player_Id'])\n",
    "    t1playersm=list(t1df.loc[:,\"MPlayed_\"+str(int(season-1))])\n",
    "    t2playersid=list(t2df.loc[:,'Player_Id'])\n",
    "    t2playersm=list(t2df.loc[:,\"MPlayed_\"+str(int(season-1))])\n",
    "    t1bowlerid=list(t1df[t1df['is_bowler']==1].loc[:,'Player_Id'])\n",
    "    t1bowlerm=list(t1df[t1df['is_bowler']==1].loc[:,\"MPlayed_\"+str(int(season-1))])\n",
    "    t2bowlerid=list(t2df[t2df['is_bowler']==1].loc[:,'Player_Id'])\n",
    "    t2bowlerm=list(t2df[t2df['is_bowler']==1].loc[:,\"MPlayed_\"+str(int(season-1))])\n",
    "    #print(t2playersid,t2playersm)\n",
    "    t1 = list(zip(([int(x) for x in t1playersid]),([int(x) for x in t1playersm])))\n",
    "    t2 = list(zip(([int(x) for x in t2playersid]),([int(x) for x in t2playersm])))\n",
    "    t1b = list(zip(([int(x) for x in t1bowlerid]),([int(x) for x in t1bowlerm])))\n",
    "    t2b = list(zip(([int(x) for x in t2bowlerid]),([int(x) for x in t2bowlerm])))\n",
    "    t1=Sort_Tuple(t1)\n",
    "    t2=Sort_Tuple(t2)\n",
    "    t1b=Sort_Tuple(t1b)\n",
    "    t2b=Sort_Tuple(t2b)\n",
    "        \n",
    "    t1pxi=t1b[0:5]\n",
    "    [t1.remove(x) for x in t1pxi]\n",
    "    t1pxi+=t1[0:6]\n",
    "    t2pxi=t2b[0:5]\n",
    "    [t2.remove(x) for x in t2pxi]\n",
    "    t2pxi+=t2[0:6]\n",
    "    t1pxi=[x[0] for x in t1pxi]\n",
    "    t2pxi=[x[0] for x in t2pxi]\n",
    "    #print(t1pxi,t2pxi)\n",
    "    runst1=[]\n",
    "    runst2=[]\n",
    "    for i in range(11):\n",
    "        pDF=bowlerwiseDF[bowlerwiseDF['Player_Id']==t1pxi[i]]\n",
    "        runs1=[]\n",
    "        for j in range(11):\n",
    "            runs1+=list(zip(list(pDF.loc[:,\"B\"+str(t2pxi[j])+\"runs\"]),list(list(pDF.loc[:,\"B\"+str(t2pxi[j])+\"balls\"]))))\n",
    "        runst1+=(runs1)\n",
    "    for i in range(11):\n",
    "        pDF=bowlerwiseDF[bowlerwiseDF['Player_Id']==t2pxi[i]]\n",
    "        runs2=[]\n",
    "        for j in range(11):\n",
    "            runs2+=list(zip(list(pDF.loc[:,\"B\"+str(t1pxi[j])+\"runs\"]),list(list(pDF.loc[:,\"B\"+str(t1pxi[j])+\"balls\"]))))\n",
    "        runst2+=(runs2)\n",
    "    return [runst1,runst2]"
   ]
  },
  {
   "cell_type": "code",
   "execution_count": 12,
   "metadata": {},
   "outputs": [],
   "source": [
    "#feature_fetch(2017,1,2)"
   ]
  },
  {
   "cell_type": "code",
   "execution_count": 13,
   "metadata": {},
   "outputs": [],
   "source": [
    "def features():\n",
    "    print(\"Generating Features\")\n",
    "    data = pd.DataFrame()\n",
    "    pos = 0\n",
    "    totalSize=len(cleanedDF)\n",
    "    for index,row in cleanedDF.iterrows():\n",
    "        print(\"Processing data...( %d %% done)\" % int(pos*100/totalSize) )\n",
    "        matchId =int( row['match_id'])\n",
    "        data.loc[pos,\"matchId\"] = matchId\n",
    "        Season = int(row['Season_Year'])\n",
    "        data.loc[pos,\"Season_Year\"] = Season\n",
    "        team1 = int(row['Team1'])\n",
    "        data.loc[pos,\"team1\"] = team1\n",
    "        team2 = int(row['Team2'])\n",
    "        data.loc[pos,\"team2\"] = team2\n",
    "        City_Name = int(row['City_Name'])\n",
    "        data.loc[pos,\"City_Name\"] = City_Name\n",
    "        Toss_Winner = int(row['Toss_Winner'])\n",
    "        data.loc[pos,\"Toss_Winner\"] = 0 if Toss_Winner==team1 else 1\n",
    "        Toss_Name = int(row['Toss_Name'])\n",
    "        data.loc[pos,\"Toss_Name\"] = Toss_Name\n",
    "\n",
    "        \n",
    "        a=0\n",
    "        for i in feature_fetch(Season,team1,team2):\n",
    "            a+=1\n",
    "            b=0\n",
    "            c=[]\n",
    "            for j in i:\n",
    "                b+=1\n",
    "                c.append(j[0]/j[1] if j[1] else 0)\n",
    "            data.loc[pos,\"feature\"+str(b)+\"runs\"+str(a)] = sum(c)/len(c)\n",
    "        match_winner = int(row['match_winner'])\n",
    "        data.loc[pos,\"match_winner\"] = 0 if match_winner==team1 else 1\n",
    "        pos=pos+1\n",
    "    #data.to_csv(\"../data/matchbowlerwise.csv\",sep=',')\n",
    "    print(\"Done\")"
   ]
  },
  {
   "cell_type": "code",
   "execution_count": 14,
   "metadata": {},
   "outputs": [],
   "source": [
    "#features()"
   ]
  },
  {
   "cell_type": "code",
   "execution_count": 15,
   "metadata": {},
   "outputs": [],
   "source": [
    "matchbowlerwiseDF = pd.read_csv('../data/matchbowlerwise.csv')"
   ]
  },
  {
   "cell_type": "code",
   "execution_count": 16,
   "metadata": {},
   "outputs": [],
   "source": [
    "def predict(season,team1,team2,city,tw,tn,rf):\n",
    "    \n",
    "    data=[tw,tn,city]\n",
    "    a=0\n",
    "    for i in feature_fetch(season,team1,team2):\n",
    "        a+=1\n",
    "        b=0\n",
    "        c=[]\n",
    "        for j in i:\n",
    "            b+=1\n",
    "            c.append(j[0]/j[1] if j[1] else 0)\n",
    "        #print(sum(c)/len(c))\n",
    "        data.append(sum(c)/len(c))\n",
    "    #print(data)\n",
    "    predictions = rf.predict([data])\n",
    "    return team1 if predictions[0]==0 else team2"
   ]
  },
  {
   "cell_type": "code",
   "execution_count": 17,
   "metadata": {},
   "outputs": [],
   "source": [
    "def return_entry():\n",
    "    try:\n",
    "        season = E1.get()\n",
    "        team1=getTeamId(E2.get())\n",
    "        team2=getTeamId(E3.get())\n",
    "        toss_winner=getTeamId(E4.get())\n",
    "        toss_decision=getTossDecision(E5.get())\n",
    "        city=getVenueId(E6.get())\n",
    "        arr=[season,team1,team2,city,toss_winner,toss_decision]\n",
    "        print(arr)\n",
    "        L0.configure(text = \"Winner: \" +str(getTeamName(predict(int(season),int(team1),int(team2),int(city),int(toss_winner),int(toss_decision),loaded_model))))\n",
    "    except:\n",
    "        L0.configure(text = \"Wrong Details \")\n",
    "    \n",
    "def getTeamId(name):\n",
    "    return (list((teamsDF[(teamsDF[\"Short_Form\"] == name)]).loc[:,'Team_Id'])[0]) if len(list((teamsDF[(teamsDF[\"Short_Form\"] == name)]).loc[:,'Team_Id'])) else 0\n",
    "\n",
    "\n",
    "def getVenueId(name):\n",
    "    return (list((venueDF[(venueDF[\"City_Name\"] == name)]).loc[:,'vid'])[0]) if len(list((venueDF[(venueDF[\"City_Name\"] == name)]).loc[:,'vid'])) else 0\n",
    "\n",
    "\n",
    "def getTossDecision(name):\n",
    "    if ( name==\"BAT\"):\n",
    "        return 0\n",
    "    else:\n",
    "        return 1\n",
    "    \n",
    "    \n",
    "def getTeamName(name):\n",
    "    return (list((teamsDF[(teamsDF[\"Team_Id\"] == name)]).loc[:,'Short_Form'])[0]) if len(list((teamsDF[(teamsDF[\"Team_Id\"] == name)]).loc[:,'Short_Form'])) else 0"
   ]
  },
  {
   "cell_type": "code",
   "execution_count": 18,
   "metadata": {},
   "outputs": [],
   "source": [
    "def training4():\n",
    "    array=matchbowlerwiseDF.values\n",
    "    x=array[:,5:10]\n",
    "    y=array[:,10]\n",
    "    #print(x)\n",
    "    #print(y)\n",
    "    validation_size = 0.75\n",
    "    seed = 7\n",
    "    x_train, x_validation, y_train, y_validation = model_selection.train_test_split(x, y, test_size=validation_size,\n",
    "                                                                                    random_state=seed)\n",
    "    \n",
    "    print(\"Random Forest\")\n",
    "    rf = RandomForestClassifier()\n",
    "    rf.fit(x_train, y_train)\n",
    "    accu = rf.score(x_validation,y_validation)\n",
    "    print(accu)\n",
    "    #predictions = rf.predict([results])\n",
    "    #print(\"model->\" + convert_to_team(predictions))\n",
    "    return rf;"
   ]
  },
  {
   "cell_type": "code",
   "execution_count": 23,
   "metadata": {},
   "outputs": [
    {
     "name": "stdout",
     "output_type": "stream",
     "text": [
      "Random Forest\n",
      "0.5355648535564853\n"
     ]
    },
    {
     "name": "stderr",
     "output_type": "stream",
     "text": [
      "C:\\Users\\Aniket\\Anaconda3\\lib\\site-packages\\sklearn\\ensemble\\forest.py:245: FutureWarning: The default value of n_estimators will change from 10 in version 0.20 to 100 in 0.22.\n",
      "  \"10 in version 0.20 to 100 in 0.22.\", FutureWarning)\n"
     ]
    }
   ],
   "source": [
    "rf4=training4()"
   ]
  },
  {
   "cell_type": "code",
   "execution_count": 25,
   "metadata": {},
   "outputs": [],
   "source": [
    "filename = 'finalized_model.sav'\n",
    "filename1 = 'finalized_model1.sav'\n",
    "filename2 = 'finalized_model2.sav'\n",
    "#joblib.dump(rf4, filename)"
   ]
  },
  {
   "cell_type": "code",
   "execution_count": 26,
   "metadata": {},
   "outputs": [
    {
     "name": "stderr",
     "output_type": "stream",
     "text": [
      "C:\\Users\\Aniket\\Anaconda3\\lib\\site-packages\\sklearn\\base.py:306: UserWarning: Trying to unpickle estimator DecisionTreeClassifier from version 0.19.2 when using version 0.21.2. This might lead to breaking code or invalid results. Use at your own risk.\n",
      "  UserWarning)\n",
      "C:\\Users\\Aniket\\Anaconda3\\lib\\site-packages\\sklearn\\base.py:306: UserWarning: Trying to unpickle estimator RandomForestClassifier from version 0.19.2 when using version 0.21.2. This might lead to breaking code or invalid results. Use at your own risk.\n",
      "  UserWarning)\n"
     ]
    }
   ],
   "source": [
    "loaded_model = joblib.load(filename)\n",
    "loaded_model1 = joblib.load(filename1)\n",
    "loaded_model2 = joblib.load(filename2)"
   ]
  },
  {
   "cell_type": "code",
   "execution_count": 27,
   "metadata": {},
   "outputs": [],
   "source": [
    "#print(rf4)"
   ]
  },
  {
   "cell_type": "code",
   "execution_count": 28,
   "metadata": {},
   "outputs": [
    {
     "name": "stdout",
     "output_type": "stream",
     "text": [
      "Random Forest\n",
      "0.5209205020920502\n"
     ]
    },
    {
     "name": "stderr",
     "output_type": "stream",
     "text": [
      "C:\\Users\\Aniket\\Anaconda3\\lib\\site-packages\\sklearn\\ensemble\\forest.py:245: FutureWarning: The default value of n_estimators will change from 10 in version 0.20 to 100 in 0.22.\n",
      "  \"10 in version 0.20 to 100 in 0.22.\", FutureWarning)\n"
     ]
    }
   ],
   "source": [
    "rf4=training4()"
   ]
  },
  {
   "cell_type": "code",
   "execution_count": 29,
   "metadata": {},
   "outputs": [
    {
     "name": "stdout",
     "output_type": "stream",
     "text": [
      "correct= 42\n",
      "total= 59\n"
     ]
    }
   ],
   "source": [
    "matches_cleaned_data = pd.read_csv('../data/processed/test_2019_cleaned.csv')\n",
    "matches_df = matches_cleaned_data[['Season_Year','Team1', 'Team2', 'City_Name', 'Toss_Winner', 'Toss_Name', 'match_winner']]\n",
    "array = matches_df.values\n",
    "x = array[:, 0:6]\n",
    "x=list(x)\n",
    "for i in range(len(x)):\n",
    "    x[i]=list(x[i])\n",
    "\n",
    "y = array[:, 6]\n",
    "data = pd.DataFrame()\n",
    "pos=0\n",
    "total=0\n",
    "correct=0\n",
    "for t in range(0,len(x)):\n",
    "    #print (t);\n",
    "    data.loc[pos,\"Team1\"] = getTeamName(x[t][1])\n",
    "    data.loc[pos,\"Team2\"] = getTeamName(x[t][2])\n",
    "    data.loc[pos,\"Winner\"] = getTeamName(y[t])\n",
    "    temp1=predict((x[t][0]),(x[t][1]),(x[t][2]),(x[t][3]),(x[t][4]),(x[t][5]),loaded_model2)\n",
    "    #temp1=predict((x[t][0]),(x[t][1]),(x[t][2]),(x[t][3]),(x[t][4]),(x[t][5]),rf4)\n",
    "    #temp2=predict((x[t][0]),(x[t][1]),(x[t][2]),(x[t][3]),(x[t][4]),(x[t][5]),loaded_model2)\n",
    "    #temp3=predict((x[t][0]),(x[t][1]),(x[t][2]),(x[t][3]),(x[t][4]),(x[t][5]),loaded_model2)\n",
    "    #if(temp1==temp2):\n",
    "    #    temp=temp2\n",
    "    #else:\n",
    "    #    temp=predict((x[t][0]),(x[t][1]),(x[t][2]),(x[t][3]),(x[t][4]),(x[t][5]),loaded_model)\n",
    "    #print(int(temp),int(y[t]))    \n",
    "    temp=temp1\n",
    "    data.loc[pos,\"Prediction\"] = getTeamName(temp)    \n",
    "    total=total+1\n",
    "    pos=pos+1\n",
    "    if(y[t]==temp):\n",
    "        correct=correct+1\n",
    "        \n",
    "data.to_csv(\"../data/processed/report_final_2019_temp.csv\",sep=',')\n",
    "print(\"correct=\",correct)\n",
    "print(\"total=\",total)"
   ]
  },
  {
   "cell_type": "code",
   "execution_count": 30,
   "metadata": {},
   "outputs": [
    {
     "data": {
      "text/plain": [
       "RandomForestClassifier(bootstrap=True, class_weight=None, criterion='gini',\n",
       "                       max_depth=None, max_features='auto', max_leaf_nodes=None,\n",
       "                       min_impurity_decrease=0.0, min_impurity_split=None,\n",
       "                       min_samples_leaf=1, min_samples_split=2,\n",
       "                       min_weight_fraction_leaf=0.0, n_estimators=10, n_jobs=1,\n",
       "                       oob_score=False, random_state=None, verbose=0,\n",
       "                       warm_start=False)"
      ]
     },
     "execution_count": 30,
     "metadata": {},
     "output_type": "execute_result"
    }
   ],
   "source": [
    "loaded_model2"
   ]
  },
  {
   "cell_type": "code",
   "execution_count": 31,
   "metadata": {},
   "outputs": [],
   "source": [
    "ft_weights = pd.DataFrame(loaded_model2.feature_importances_)"
   ]
  },
  {
   "cell_type": "code",
   "execution_count": 32,
   "metadata": {},
   "outputs": [
    {
     "data": {
      "text/html": [
       "<div>\n",
       "<style scoped>\n",
       "    .dataframe tbody tr th:only-of-type {\n",
       "        vertical-align: middle;\n",
       "    }\n",
       "\n",
       "    .dataframe tbody tr th {\n",
       "        vertical-align: top;\n",
       "    }\n",
       "\n",
       "    .dataframe thead th {\n",
       "        text-align: right;\n",
       "    }\n",
       "</style>\n",
       "<table border=\"1\" class=\"dataframe\">\n",
       "  <thead>\n",
       "    <tr style=\"text-align: right;\">\n",
       "      <th></th>\n",
       "      <th>0</th>\n",
       "    </tr>\n",
       "  </thead>\n",
       "  <tbody>\n",
       "    <tr>\n",
       "      <th>0</th>\n",
       "      <td>0.202230</td>\n",
       "    </tr>\n",
       "    <tr>\n",
       "      <th>1</th>\n",
       "      <td>0.055788</td>\n",
       "    </tr>\n",
       "    <tr>\n",
       "      <th>2</th>\n",
       "      <td>0.059012</td>\n",
       "    </tr>\n",
       "    <tr>\n",
       "      <th>3</th>\n",
       "      <td>0.337895</td>\n",
       "    </tr>\n",
       "    <tr>\n",
       "      <th>4</th>\n",
       "      <td>0.345076</td>\n",
       "    </tr>\n",
       "  </tbody>\n",
       "</table>\n",
       "</div>"
      ],
      "text/plain": [
       "          0\n",
       "0  0.202230\n",
       "1  0.055788\n",
       "2  0.059012\n",
       "3  0.337895\n",
       "4  0.345076"
      ]
     },
     "execution_count": 32,
     "metadata": {},
     "output_type": "execute_result"
    }
   ],
   "source": [
    "ft_weights"
   ]
  },
  {
   "cell_type": "code",
   "execution_count": 33,
   "metadata": {},
   "outputs": [
    {
     "name": "stdout",
     "output_type": "stream",
     "text": [
      "['2018', 7, 3, 4, 3, 0]\n",
      "['2018', 7, 3, 4, 3, 1]\n"
     ]
    }
   ],
   "source": [
    "from tkinter import *\n",
    "top=Tk()\n",
    "O1=[\"CSK\",\"RCB\",\"KKR\"]\n",
    "\n",
    "L0=Label(top)\n",
    "L0.grid(row=0,column=1)\n",
    "L1 = Label(top, text=\"Season\").grid(row=1,column=0)\n",
    "E1 = Entry(top,bd=5)\n",
    "E1.grid(row=1,column=1)\n",
    "\n",
    "L2 = Label(top, text=\"Team 1\").grid(row=2,column=0)\n",
    "E2 = Entry(top, bd =5 )\n",
    "E2.grid(row=2,column=1)\n",
    "\n",
    "L3 = Label(top, text=\"Team 2\").grid(row=3,column=0)\n",
    "E3 = Entry(top, bd =5)\n",
    "E3.grid(row=3,column=1)\n",
    "\n",
    "L4 = Label(top, text=\"Toss Winner\").grid(row=4,column=0)\n",
    "E4 = Entry(top, bd =5)\n",
    "E4.grid(row=4,column=1)\n",
    "\n",
    "L5 = Label(top, text=\"Toss Decision\").grid(row=5,column=0)\n",
    "E5 = Entry(top, bd =5)\n",
    "E5.grid(row=5,column=1)\n",
    "\n",
    "L6 = Label(top, text=\"City\").grid(row=6,column=0)\n",
    "E6 = Entry(top, bd =5)\n",
    "E6.grid(row=6,column=1)\n",
    "\n",
    "B1=Button(top,text=\"Submit\",command = return_entry)\n",
    "B1.grid(row=7,column=1)\n",
    "\n",
    "#B2=Button(top,text=\"Quit\",command = top.quit)\n",
    "#B2.grid(row=8,column=1)\n",
    "\n",
    "top.mainloop()\n"
   ]
  },
  {
   "cell_type": "code",
   "execution_count": null,
   "metadata": {},
   "outputs": [],
   "source": []
  }
 ],
 "metadata": {
  "kernelspec": {
   "display_name": "Python 3",
   "language": "python",
   "name": "python3"
  },
  "language_info": {
   "codemirror_mode": {
    "name": "ipython",
    "version": 3
   },
   "file_extension": ".py",
   "mimetype": "text/x-python",
   "name": "python",
   "nbconvert_exporter": "python",
   "pygments_lexer": "ipython3",
   "version": "3.7.3"
  }
 },
 "nbformat": 4,
 "nbformat_minor": 2
}
