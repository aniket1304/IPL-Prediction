{
 "cells": [
  {
   "cell_type": "code",
   "execution_count": 2,
   "metadata": {},
   "outputs": [],
   "source": [
    "def return_entry():\n",
    "    season = E1.get()\n",
    "    team1=E2.get()\n",
    "    team2=E3.get()\n",
    "    toss_winner=E4.get()\n",
    "    toss_decision=E5.get()\n",
    "    city=E6.get()\n",
    "    arr=[season,team1,team2,city,toss_winner,toss_decision]\n",
    "    print(arr)\n",
    "    L0.configure(text = \"Winner: \")\n",
    "    L0.configure(text = \"Winner: \" +str(predict(arr)))"
   ]
  },
  {
   "cell_type": "code",
   "execution_count": 3,
   "metadata": {
    "scrolled": true
   },
   "outputs": [
    {
     "name": "stdout",
     "output_type": "stream",
     "text": [
      "['2018', 'CSK', 'MI', 'Mumbai', 'MI', 'BAT']\n"
     ]
    },
    {
     "name": "stderr",
     "output_type": "stream",
     "text": [
      "Exception in Tkinter callback\n",
      "Traceback (most recent call last):\n",
      "  File \"C:\\Users\\Aniket\\Anaconda3\\lib\\tkinter\\__init__.py\", line 1705, in __call__\n",
      "    return self.func(*args)\n",
      "  File \"<ipython-input-2-d61dd0559edc>\", line 11, in return_entry\n",
      "    L0.configure(text = \"Winner: \" +str(predict(arr)))\n",
      "NameError: name 'predict' is not defined\n"
     ]
    }
   ],
   "source": [
    "from tkinter import *\n",
    "top=Tk()\n",
    "O1=[\"CSK\",\"RCB\",\"KKR\"]\n",
    "\n",
    "L0=Label(top)\n",
    "L0.grid(row=0,column=0)\n",
    "L1 = Label(top, text=\"Season\").grid(row=1,column=0)\n",
    "E1 = Entry(top,bd=5)\n",
    "E1.grid(row=1,column=1)\n",
    "\n",
    "L2 = Label(top, text=\"Team 1\").grid(row=2,column=0)\n",
    "E2 = Entry(top, bd =5 )\n",
    "E2.grid(row=2,column=1)\n",
    "\n",
    "L3 = Label(top, text=\"Team 2\").grid(row=3,column=0)\n",
    "E3 = Entry(top, bd =5)\n",
    "E3.grid(row=3,column=1)\n",
    "\n",
    "L4 = Label(top, text=\"Toss Winner\").grid(row=4,column=0)\n",
    "E4 = Entry(top, bd =5)\n",
    "E4.grid(row=4,column=1)\n",
    "\n",
    "L5 = Label(top, text=\"Toss Decision\").grid(row=5,column=0)\n",
    "E5 = Entry(top, bd =5)\n",
    "E5.grid(row=5,column=1)\n",
    "\n",
    "L6 = Label(top, text=\"City\").grid(row=6,column=0)\n",
    "E6 = Entry(top, bd =5)\n",
    "E6.grid(row=6,column=1)\n",
    "\n",
    "B1=Button(top,text=\"Submit\",command = return_entry)\n",
    "B1.grid(row=7,column=1)\n",
    "\n",
    "B2=Button(top,text=\"Quit\",command = top.quit)\n",
    "B2.grid(row=8,column=1)\n",
    "\n",
    "top.mainloop()\n",
    "#arr=return_entry()\n",
    "#print(arr)"
   ]
  },
  {
   "cell_type": "code",
   "execution_count": null,
   "metadata": {},
   "outputs": [],
   "source": []
  }
 ],
 "metadata": {
  "kernelspec": {
   "display_name": "Python 3",
   "language": "python",
   "name": "python3"
  }
 },
 "nbformat": 4,
 "nbformat_minor": 2
}
